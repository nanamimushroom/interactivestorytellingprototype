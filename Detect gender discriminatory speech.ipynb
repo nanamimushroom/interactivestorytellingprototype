{
 "cells": [
  {
   "cell_type": "markdown",
   "metadata": {},
   "source": [
    "### This notebook is created for detecting gender discriminatory speech from non-gender discriminatory speech.\n",
    "\n",
    "- Data Cleaning\n",
    "- Modeling:\n",
    "    - Training\n",
    "    - Evaluation"
   ]
  },
  {
   "cell_type": "code",
   "execution_count": 82,
   "metadata": {},
   "outputs": [],
   "source": [
    "import pandas as pd\n",
    "import matplotlib.pyplot as plt\n",
    "import detectgenderspeech as dgs\n",
    "from sklearn.model_selection import train_test_split\n",
    "from sklearn.metrics import confusion_matrix\n",
    "from sklearn.metrics import classification_report\n",
    "from sklearn import svm\n",
    "import numpy as np"
   ]
  },
  {
   "cell_type": "markdown",
   "metadata": {},
   "source": [
    "## Read the data "
   ]
  },
  {
   "cell_type": "code",
   "execution_count": 83,
   "metadata": {},
   "outputs": [
    {
     "data": {
      "text/html": [
       "<div>\n",
       "<style scoped>\n",
       "    .dataframe tbody tr th:only-of-type {\n",
       "        vertical-align: middle;\n",
       "    }\n",
       "\n",
       "    .dataframe tbody tr th {\n",
       "        vertical-align: top;\n",
       "    }\n",
       "\n",
       "    .dataframe thead th {\n",
       "        text-align: right;\n",
       "    }\n",
       "</style>\n",
       "<table border=\"1\" class=\"dataframe\">\n",
       "  <thead>\n",
       "    <tr style=\"text-align: right;\">\n",
       "      <th></th>\n",
       "      <th>text</th>\n",
       "      <th>label</th>\n",
       "    </tr>\n",
       "  </thead>\n",
       "  <tbody>\n",
       "    <tr>\n",
       "      <td>0</td>\n",
       "      <td>Make me a sandwich.</td>\n",
       "      <td>1</td>\n",
       "    </tr>\n",
       "    <tr>\n",
       "      <td>1</td>\n",
       "      <td>It is a men thing.</td>\n",
       "      <td>1</td>\n",
       "    </tr>\n",
       "    <tr>\n",
       "      <td>2</td>\n",
       "      <td>Please Miss be nice and bring us some coffee</td>\n",
       "      <td>1</td>\n",
       "    </tr>\n",
       "    <tr>\n",
       "      <td>3</td>\n",
       "      <td>All feminism is radical.</td>\n",
       "      <td>1</td>\n",
       "    </tr>\n",
       "    <tr>\n",
       "      <td>4</td>\n",
       "      <td>Women belong in the kintchen.</td>\n",
       "      <td>1</td>\n",
       "    </tr>\n",
       "  </tbody>\n",
       "</table>\n",
       "</div>"
      ],
      "text/plain": [
       "                                           text  label\n",
       "0                           Make me a sandwich.      1\n",
       "1                            It is a men thing.      1\n",
       "2  Please Miss be nice and bring us some coffee      1\n",
       "3                     All feminism is radical.       1\n",
       "4                 Women belong in the kintchen.      1"
      ]
     },
     "execution_count": 83,
     "metadata": {},
     "output_type": "execute_result"
    }
   ],
   "source": [
    "df = pd.read_csv('df_gender_speech.csv')\n",
    "df_clean = dgs.wash_pandas_str(df)\n",
    "df_clean.head()  "
   ]
  },
  {
   "cell_type": "markdown",
   "metadata": {},
   "source": [
    "Count of entries in dataset"
   ]
  },
  {
   "cell_type": "code",
   "execution_count": 84,
   "metadata": {},
   "outputs": [
    {
     "name": "stdout",
     "output_type": "stream",
     "text": [
      "There are 1001 entries and 2 columns in dataset\n"
     ]
    }
   ],
   "source": [
    "print('There are {} entries and {} columns in dataset'.format(df.shape[0],df.shape[1]))"
   ]
  },
  {
   "cell_type": "markdown",
   "metadata": {},
   "source": [
    "## Class distribution"
   ]
  },
  {
   "cell_type": "markdown",
   "metadata": {},
   "source": [
    "Checking class distribution of data. We have two classes:\n",
    "1. Gender discriminatory speech\n",
    "2. Non Gender discriminatory speech"
   ]
  },
  {
   "cell_type": "code",
   "execution_count": 85,
   "metadata": {},
   "outputs": [
    {
     "data": {
      "image/png": "[encoded data removed]",
      "text/plain": [
       "<Figure size 432x288 with 1 Axes>"
      ]
     },
     "metadata": {},
     "output_type": "display_data"
    }
   ],
   "source": [
    "# Pie chart, where the slices will be ordered and plotted counter-clockwise:\n",
    "x = df.label.value_counts()\n",
    "labels = 'Gender discriminatory speech', 'Non Gender discriminatory speech'\n",
    "sizes = [x[1], x[0]]\n",
    "explode = (0, 0.1)\n",
    "\n",
    "fig1, ax1 = plt.subplots()\n",
    "ax1.pie(sizes, explode=explode, labels=labels, autopct='%1.1f%%',\n",
    "        shadow=True, startangle=90)\n",
    "ax1.axis('equal')  # Equal aspect ratio ensures that pie is drawn as a circle.\n",
    "\n",
    "plt.show()"
   ]
  },
  {
   "cell_type": "markdown",
   "metadata": {},
   "source": [
    "## Data Analysis\n",
    "during this step,I check the gender biased language behaviours between gender discriminatory/ non gender discriminatory speech ,and then to make a Bayes-derived feature."
   ]
  },
  {
   "cell_type": "code",
   "execution_count": 86,
   "metadata": {},
   "outputs": [],
   "source": [
    "#get the tweets and lables, split the data into 70% training data and 30% test data\n",
    "X = df_clean.iloc[:,0:1]\n",
    "Y = df_clean.iloc[:,1]\n",
    "\n",
    "X_train, X_test, Y_train, Y_test = train_test_split(X, Y, random_state = 45, test_size  = 0.3)"
   ]
  },
  {
   "cell_type": "code",
   "execution_count": 87,
   "metadata": {},
   "outputs": [],
   "source": [
    "# train the training data by using Naive Bayes     \n",
    "train_df,dis_p_prior= dgs.naive_bayes_train(X_train, Y_train)"
   ]
  },
  {
   "cell_type": "code",
   "execution_count": 88,
   "metadata": {},
   "outputs": [
    {
     "data": {
      "text/html": [
       "<div>\n",
       "<style scoped>\n",
       "    .dataframe tbody tr th:only-of-type {\n",
       "        vertical-align: middle;\n",
       "    }\n",
       "\n",
       "    .dataframe tbody tr th {\n",
       "        vertical-align: top;\n",
       "    }\n",
       "\n",
       "    .dataframe thead th {\n",
       "        text-align: right;\n",
       "    }\n",
       "</style>\n",
       "<table border=\"1\" class=\"dataframe\">\n",
       "  <thead>\n",
       "    <tr style=\"text-align: right;\">\n",
       "      <th></th>\n",
       "      <th>word</th>\n",
       "      <th>cnt_in_non_dis</th>\n",
       "      <th>cnt_in_dis</th>\n",
       "      <th>freq_non_dis</th>\n",
       "      <th>freq_dis</th>\n",
       "      <th>total_cnt</th>\n",
       "    </tr>\n",
       "  </thead>\n",
       "  <tbody>\n",
       "    <tr>\n",
       "      <td>16</td>\n",
       "      <td>women</td>\n",
       "      <td>90</td>\n",
       "      <td>106</td>\n",
       "      <td>0.284810</td>\n",
       "      <td>0.276042</td>\n",
       "      <td>196</td>\n",
       "    </tr>\n",
       "    <tr>\n",
       "      <td>46</td>\n",
       "      <td>girls</td>\n",
       "      <td>63</td>\n",
       "      <td>76</td>\n",
       "      <td>0.199367</td>\n",
       "      <td>0.197917</td>\n",
       "      <td>139</td>\n",
       "    </tr>\n",
       "    <tr>\n",
       "      <td>55</td>\n",
       "      <td>men</td>\n",
       "      <td>44</td>\n",
       "      <td>51</td>\n",
       "      <td>0.139241</td>\n",
       "      <td>0.132812</td>\n",
       "      <td>95</td>\n",
       "    </tr>\n",
       "    <tr>\n",
       "      <td>195</td>\n",
       "      <td>feminist</td>\n",
       "      <td>38</td>\n",
       "      <td>38</td>\n",
       "      <td>0.120253</td>\n",
       "      <td>0.098958</td>\n",
       "      <td>76</td>\n",
       "    </tr>\n",
       "    <tr>\n",
       "      <td>52</td>\n",
       "      <td>like</td>\n",
       "      <td>28</td>\n",
       "      <td>45</td>\n",
       "      <td>0.088608</td>\n",
       "      <td>0.117188</td>\n",
       "      <td>73</td>\n",
       "    </tr>\n",
       "  </tbody>\n",
       "</table>\n",
       "</div>"
      ],
      "text/plain": [
       "         word  cnt_in_non_dis  cnt_in_dis  freq_non_dis  freq_dis  total_cnt\n",
       "16      women              90         106      0.284810  0.276042        196\n",
       "46      girls              63          76      0.199367  0.197917        139\n",
       "55        men              44          51      0.139241  0.132812         95\n",
       "195  feminist              38          38      0.120253  0.098958         76\n",
       "52       like              28          45      0.088608  0.117188         73"
      ]
     },
     "execution_count": 88,
     "metadata": {},
     "output_type": "execute_result"
    }
   ],
   "source": [
    "train_df.head()"
   ]
  },
  {
   "cell_type": "markdown",
   "metadata": {},
   "source": [
    "## Generate Features  "
   ]
  },
  {
   "cell_type": "markdown",
   "metadata": {},
   "source": [
    "### Word frequency feature part :"
   ]
  },
  {
   "cell_type": "code",
   "execution_count": 89,
   "metadata": {},
   "outputs": [],
   "source": [
    "# get word frequency feature for svm\n",
    "word_frequency_feature_train = dgs.naive_bayes_generate_feature(train_df, dis_p_prior, X_train, Y_train)"
   ]
  },
  {
   "cell_type": "markdown",
   "metadata": {},
   "source": [
    "### Bigram frequency feature part :"
   ]
  },
  {
   "cell_type": "code",
   "execution_count": 90,
   "metadata": {},
   "outputs": [],
   "source": [
    "#train the training data by using Naive Bayes  \n",
    "train_df_bigrm, dis_p_prior = dgs.naive_bayes_bigrm_train(X_train, Y_train)"
   ]
  },
  {
   "cell_type": "code",
   "execution_count": 91,
   "metadata": {},
   "outputs": [],
   "source": [
    "# generate bigram frequency feature for svm\n",
    "bigrm_frequency_feature_train = dgs.naive_bayes_generate_feature_bigrm(train_df_bigrm, dis_p_prior, X_train, Y_train)"
   ]
  },
  {
   "cell_type": "markdown",
   "metadata": {},
   "source": [
    "### Bigram- tagging frequency feature part: "
   ]
  },
  {
   "cell_type": "markdown",
   "metadata": {},
   "source": [
    "source to learn how to use pos-tags https://stackoverflow.com/questions/60363904/how-to-use-the-universal-pos-tags-with-nltk-pos-tag-function\n",
    "\n",
    "Bigrams are tagged into their parts-of-speech. \n",
    "\n",
    "For example, ('red', 'apple') will be tagged as ('ADJ', 'NOUN').\n",
    "\n",
    "We use tagset = universal, which has only 18 different types of part-of-speech.\n",
    "\n",
    "Therefore, the unique tagged bigrams come in 18\\*18 = 324 types.\n",
    "\n",
    "This enables us to build a 324-dimensional feature, which can be fed into SVM directly (which is less efficient for untreated bigrams, since they\n",
    "may come in many thousands of different types)"
   ]
  },
  {
   "cell_type": "code",
   "execution_count": 92,
   "metadata": {},
   "outputs": [],
   "source": [
    "# Bigram of Tags using SVM\n",
    "train_tagged_bigram_features = dgs.tags_bigram_generate_features(X_train) "
   ]
  },
  {
   "cell_type": "markdown",
   "metadata": {},
   "source": [
    "##   Training the algorithm \n",
    "Support vector machineuse algorithm is used.\n",
    "\n",
    "### for word frequency feature:"
   ]
  },
  {
   "cell_type": "code",
   "execution_count": 93,
   "metadata": {},
   "outputs": [],
   "source": [
    "X1 = dgs.conv_array(word_frequency_feature_train)\n",
    "y = Y_train"
   ]
  },
  {
   "cell_type": "code",
   "execution_count": 94,
   "metadata": {},
   "outputs": [
    {
     "data": {
      "text/plain": [
       "SVC(C=1.0, cache_size=200, class_weight=None, coef0=0.0,\n",
       "    decision_function_shape='ovr', degree=3, gamma='scale', kernel='rbf',\n",
       "    max_iter=-1, probability=False, random_state=None, shrinking=True,\n",
       "    tol=0.001, verbose=False)"
      ]
     },
     "execution_count": 94,
     "metadata": {},
     "output_type": "execute_result"
    }
   ],
   "source": [
    "# the default parameter for gamma should be 'scale'. I first tried svm.SVC() without written parameters, and a warning sign popped out, saying I should set gamma='scale'.\n",
    "clf_word = svm.SVC(gamma='scale')\n",
    "clf_word.fit(X1, y)"
   ]
  },
  {
   "cell_type": "code",
   "execution_count": 95,
   "metadata": {},
   "outputs": [],
   "source": [
    "#get word frequency of testing data set\n",
    "word_frequency_feature_test = dgs.naive_bayes_generate_feature(train_df, dis_p_prior, X_test, Y_test)\n",
    "X2 = dgs.conv_array(word_frequency_feature_test)"
   ]
  },
  {
   "cell_type": "markdown",
   "metadata": {},
   "source": [
    "###  for bigram frequency"
   ]
  },
  {
   "cell_type": "code",
   "execution_count": 96,
   "metadata": {},
   "outputs": [],
   "source": [
    "X3 = dgs.conv_array(bigrm_frequency_feature_train)\n",
    "y = Y_train"
   ]
  },
  {
   "cell_type": "code",
   "execution_count": 97,
   "metadata": {},
   "outputs": [
    {
     "data": {
      "text/plain": [
       "SVC(C=1.0, cache_size=200, class_weight=None, coef0=0.0,\n",
       "    decision_function_shape='ovr', degree=3, gamma='scale', kernel='rbf',\n",
       "    max_iter=-1, probability=False, random_state=None, shrinking=True,\n",
       "    tol=0.001, verbose=False)"
      ]
     },
     "execution_count": 97,
     "metadata": {},
     "output_type": "execute_result"
    }
   ],
   "source": [
    "clf_bigrm = svm.SVC(gamma='scale')\n",
    "clf_bigrm.fit(X3, y)"
   ]
  },
  {
   "cell_type": "code",
   "execution_count": 100,
   "metadata": {},
   "outputs": [],
   "source": [
    "# get bigram frequency testing data set\n",
    "bigrm_frequency_feature_test = dgs.naive_bayes_generate_feature_bigrm(train_df_bigrm, dis_p_prior, X_test, Y_test)\n",
    "X4 = dgs.conv_array(bigrm_frequency_feature_test)"
   ]
  },
  {
   "cell_type": "markdown",
   "metadata": {},
   "source": [
    "###  for tagged bigram feature"
   ]
  },
  {
   "cell_type": "code",
   "execution_count": 101,
   "metadata": {},
   "outputs": [
    {
     "data": {
      "text/plain": [
       "SVC(C=1.0, cache_size=200, class_weight=None, coef0=0.0,\n",
       "    decision_function_shape='ovr', degree=3, gamma='scale', kernel='rbf',\n",
       "    max_iter=-1, probability=False, random_state=None, shrinking=True,\n",
       "    tol=0.001, verbose=False)"
      ]
     },
     "execution_count": 101,
     "metadata": {},
     "output_type": "execute_result"
    }
   ],
   "source": [
    "clf_tags = svm.SVC(gamma='scale')\n",
    "clf_tags.fit(train_tagged_bigram_features, Y_train)"
   ]
  },
  {
   "cell_type": "code",
   "execution_count": 102,
   "metadata": {},
   "outputs": [],
   "source": [
    "test_tagged_bigram_features = dgs.tags_bigram_generate_features(X_test)"
   ]
  },
  {
   "cell_type": "markdown",
   "metadata": {},
   "source": [
    "## Evaluation the model"
   ]
  },
  {
   "cell_type": "markdown",
   "metadata": {},
   "source": [
    "### for word frequency feature:"
   ]
  },
  {
   "cell_type": "code",
   "execution_count": 103,
   "metadata": {},
   "outputs": [
    {
     "data": {
      "text/plain": [
       "0.7308970099667774"
      ]
     },
     "execution_count": 103,
     "metadata": {},
     "output_type": "execute_result"
    }
   ],
   "source": [
    "Y_test_nparray = np.array(Y_test)\n",
    "Y_predict = clf_word.predict(X2)\n",
    "\n",
    "clf_word.score(X2, Y_test)"
   ]
  },
  {
   "cell_type": "code",
   "execution_count": 104,
   "metadata": {},
   "outputs": [
    {
     "data": {
      "text/plain": [
       "array([[ 98,  42],\n",
       "       [ 39, 122]], dtype=int64)"
      ]
     },
     "execution_count": 104,
     "metadata": {},
     "output_type": "execute_result"
    }
   ],
   "source": [
    "# get the confusion matrix to see how our model worked on test set.  \n",
    "cm_word = confusion_matrix(Y_test, Y_predict)\n",
    "cm_word "
   ]
  },
  {
   "cell_type": "code",
   "execution_count": 105,
   "metadata": {},
   "outputs": [
    {
     "name": "stdout",
     "output_type": "stream",
     "text": [
      "              precision    recall  f1-score   support\n",
      "\n",
      "           0       0.72      0.70      0.71       140\n",
      "           1       0.74      0.76      0.75       161\n",
      "\n",
      "    accuracy                           0.73       301\n",
      "   macro avg       0.73      0.73      0.73       301\n",
      "weighted avg       0.73      0.73      0.73       301\n",
      "\n"
     ]
    }
   ],
   "source": [
    "# details of accuracy and recall :\n",
    "print(classification_report(Y_test, Y_predict))"
   ]
  },
  {
   "cell_type": "markdown",
   "metadata": {},
   "source": [
    "### for bigram frequency feature"
   ]
  },
  {
   "cell_type": "code",
   "execution_count": 106,
   "metadata": {},
   "outputs": [
    {
     "data": {
      "text/plain": [
       "0.6777408637873754"
      ]
     },
     "execution_count": 106,
     "metadata": {},
     "output_type": "execute_result"
    }
   ],
   "source": [
    "Y_test_nparray = np.array(Y_test)\n",
    "Y_predict_2 = clf_bigrm.predict(X4)\n",
    "\n",
    "clf_bigrm.score(X4, Y_test)"
   ]
  },
  {
   "cell_type": "code",
   "execution_count": 107,
   "metadata": {},
   "outputs": [
    {
     "data": {
      "text/plain": [
       "array([[ 93,  47],\n",
       "       [ 50, 111]], dtype=int64)"
      ]
     },
     "execution_count": 107,
     "metadata": {},
     "output_type": "execute_result"
    }
   ],
   "source": [
    "# get the confusion matrix to see how our model worked on test set.  \n",
    "cm_bigrm = confusion_matrix(Y_test, Y_predict_2)\n",
    "cm_bigrm"
   ]
  },
  {
   "cell_type": "code",
   "execution_count": 108,
   "metadata": {},
   "outputs": [
    {
     "name": "stdout",
     "output_type": "stream",
     "text": [
      "              precision    recall  f1-score   support\n",
      "\n",
      "           0       0.65      0.66      0.66       140\n",
      "           1       0.70      0.69      0.70       161\n",
      "\n",
      "    accuracy                           0.68       301\n",
      "   macro avg       0.68      0.68      0.68       301\n",
      "weighted avg       0.68      0.68      0.68       301\n",
      "\n"
     ]
    }
   ],
   "source": [
    "# details of accuracy and recall :\n",
    "print(classification_report(Y_test, Y_predict_2))"
   ]
  },
  {
   "cell_type": "markdown",
   "metadata": {},
   "source": [
    "### for tagged bigram feature"
   ]
  },
  {
   "cell_type": "code",
   "execution_count": 109,
   "metadata": {},
   "outputs": [
    {
     "data": {
      "text/plain": [
       "0.6777408637873754"
      ]
     },
     "execution_count": 109,
     "metadata": {},
     "output_type": "execute_result"
    }
   ],
   "source": [
    "clf_tags.score(test_tagged_bigram_features, Y_test)"
   ]
  },
  {
   "cell_type": "markdown",
   "metadata": {},
   "source": [
    "Accuracy for tagged bigram feature is 67.7%."
   ]
  },
  {
   "cell_type": "code",
   "execution_count": 110,
   "metadata": {},
   "outputs": [],
   "source": [
    "Y_predict_3 = clf_tags.predict(test_tagged_bigram_features)"
   ]
  },
  {
   "cell_type": "code",
   "execution_count": 111,
   "metadata": {},
   "outputs": [
    {
     "data": {
      "text/plain": [
       "array([[ 86,  54],\n",
       "       [ 43, 118]], dtype=int64)"
      ]
     },
     "execution_count": 111,
     "metadata": {},
     "output_type": "execute_result"
    }
   ],
   "source": [
    "# get the confusion matrix to see how our model worked on test set.  \n",
    "cm_tags = confusion_matrix(Y_test, Y_predict_3)\n",
    "cm_tags"
   ]
  },
  {
   "cell_type": "code",
   "execution_count": 112,
   "metadata": {},
   "outputs": [
    {
     "name": "stdout",
     "output_type": "stream",
     "text": [
      "              precision    recall  f1-score   support\n",
      "\n",
      "           0       0.67      0.61      0.64       140\n",
      "           1       0.69      0.73      0.71       161\n",
      "\n",
      "    accuracy                           0.68       301\n",
      "   macro avg       0.68      0.67      0.67       301\n",
      "weighted avg       0.68      0.68      0.68       301\n",
      "\n"
     ]
    }
   ],
   "source": [
    "# details of accuracy and recall :\n",
    "print(classification_report(Y_test, Y_predict_3))"
   ]
  },
  {
   "cell_type": "code",
   "execution_count": 113,
   "metadata": {},
   "outputs": [
    {
     "data": {
      "text/plain": [
       "(301, 1)"
      ]
     },
     "execution_count": 113,
     "metadata": {},
     "output_type": "execute_result"
    }
   ],
   "source": [
    "X2.shape"
   ]
  },
  {
   "cell_type": "code",
   "execution_count": 114,
   "metadata": {},
   "outputs": [
    {
     "data": {
      "text/plain": [
       "(700, 1)"
      ]
     },
     "execution_count": 114,
     "metadata": {},
     "output_type": "execute_result"
    }
   ],
   "source": [
    "X1.shape"
   ]
  },
  {
   "cell_type": "code",
   "execution_count": 115,
   "metadata": {},
   "outputs": [],
   "source": [
    "joint_features_train = np.concatenate((X1, X3, train_tagged_bigram_features), axis = 1)"
   ]
  },
  {
   "cell_type": "code",
   "execution_count": 116,
   "metadata": {},
   "outputs": [
    {
     "data": {
      "text/plain": [
       "(700, 326)"
      ]
     },
     "execution_count": 116,
     "metadata": {},
     "output_type": "execute_result"
    }
   ],
   "source": [
    "joint_features_train.shape"
   ]
  },
  {
   "cell_type": "code",
   "execution_count": 117,
   "metadata": {},
   "outputs": [],
   "source": [
    "clf_joint = svm.SVC(gamma='scale')"
   ]
  },
  {
   "cell_type": "code",
   "execution_count": 118,
   "metadata": {},
   "outputs": [
    {
     "data": {
      "text/plain": [
       "SVC(C=1.0, cache_size=200, class_weight=None, coef0=0.0,\n",
       "    decision_function_shape='ovr', degree=3, gamma='scale', kernel='rbf',\n",
       "    max_iter=-1, probability=False, random_state=None, shrinking=True,\n",
       "    tol=0.001, verbose=False)"
      ]
     },
     "execution_count": 118,
     "metadata": {},
     "output_type": "execute_result"
    }
   ],
   "source": [
    "clf_joint.fit(joint_features_train, Y_train)"
   ]
  },
  {
   "cell_type": "code",
   "execution_count": 130,
   "metadata": {},
   "outputs": [
    {
     "ename": "NameError",
     "evalue": "name 'X_test_total' is not defined",
     "output_type": "error",
     "traceback": [
      "\u001b[1;31m---------------------------------------------------------------------------\u001b[0m",
      "\u001b[1;31mNameError\u001b[0m                                 Traceback (most recent call last)",
      "\u001b[1;32m<ipython-input-130-30696369c86f>\u001b[0m in \u001b[0;36m<module>\u001b[1;34m\u001b[0m\n\u001b[1;32m----> 1\u001b[1;33m \u001b[0mclf_joint\u001b[0m\u001b[1;33m.\u001b[0m\u001b[0mscore\u001b[0m\u001b[1;33m(\u001b[0m\u001b[0mX_test_total\u001b[0m\u001b[1;33m,\u001b[0m\u001b[0mY_test_total\u001b[0m\u001b[1;33m)\u001b[0m\u001b[1;33m\u001b[0m\u001b[1;33m\u001b[0m\u001b[0m\n\u001b[0m",
      "\u001b[1;31mNameError\u001b[0m: name 'X_test_total' is not defined"
     ]
    }
   ],
   "source": [
    "clf_joint.score(X_test_total,Y_test_total)"
   ]
  },
  {
   "cell_type": "code",
   "execution_count": 119,
   "metadata": {},
   "outputs": [],
   "source": [
    "joint_features_test = np.concatenate((X2, X4, test_tagged_bigram_features), axis = 1)"
   ]
  },
  {
   "cell_type": "code",
   "execution_count": 120,
   "metadata": {},
   "outputs": [],
   "source": [
    "Y_predict_joint = clf_joint.predict(joint_features_test)"
   ]
  },
  {
   "cell_type": "code",
   "execution_count": 121,
   "metadata": {},
   "outputs": [
    {
     "name": "stdout",
     "output_type": "stream",
     "text": [
      "              precision    recall  f1-score   support\n",
      "\n",
      "           0       0.67      0.79      0.73       140\n",
      "           1       0.79      0.66      0.72       161\n",
      "\n",
      "    accuracy                           0.72       301\n",
      "   macro avg       0.73      0.73      0.72       301\n",
      "weighted avg       0.73      0.72      0.72       301\n",
      "\n"
     ]
    }
   ],
   "source": [
    "print(classification_report(Y_test, Y_predict_joint))"
   ]
  },
  {
   "cell_type": "code",
   "execution_count": 122,
   "metadata": {},
   "outputs": [
    {
     "data": {
      "text/html": [
       "<div>\n",
       "<style scoped>\n",
       "    .dataframe tbody tr th:only-of-type {\n",
       "        vertical-align: middle;\n",
       "    }\n",
       "\n",
       "    .dataframe tbody tr th {\n",
       "        vertical-align: top;\n",
       "    }\n",
       "\n",
       "    .dataframe thead th {\n",
       "        text-align: right;\n",
       "    }\n",
       "</style>\n",
       "<table border=\"1\" class=\"dataframe\">\n",
       "  <thead>\n",
       "    <tr style=\"text-align: right;\">\n",
       "      <th></th>\n",
       "      <th>text</th>\n",
       "    </tr>\n",
       "  </thead>\n",
       "  <tbody>\n",
       "    <tr>\n",
       "      <td>727</td>\n",
       "      <td>A woman is married primarily for reproduction ...</td>\n",
       "    </tr>\n",
       "    <tr>\n",
       "      <td>243</td>\n",
       "      <td>Girls, stick with math &amp; science in school. Th...</td>\n",
       "    </tr>\n",
       "    <tr>\n",
       "      <td>342</td>\n",
       "      <td>I feel much safer if a male is driving instead...</td>\n",
       "    </tr>\n",
       "    <tr>\n",
       "      <td>909</td>\n",
       "      <td>here are goes Im not like the other girls squ...</td>\n",
       "    </tr>\n",
       "    <tr>\n",
       "      <td>920</td>\n",
       "      <td>It's one thing to have women in leadership and...</td>\n",
       "    </tr>\n",
       "    <tr>\n",
       "      <td>...</td>\n",
       "      <td>...</td>\n",
       "    </tr>\n",
       "    <tr>\n",
       "      <td>491</td>\n",
       "      <td>Im a girl and people get really fucking confus...</td>\n",
       "    </tr>\n",
       "    <tr>\n",
       "      <td>48</td>\n",
       "      <td>There are no ugly women, only lazy ones</td>\n",
       "    </tr>\n",
       "    <tr>\n",
       "      <td>805</td>\n",
       "      <td>Dowry of girls with flat Tummy should be paid ...</td>\n",
       "    </tr>\n",
       "    <tr>\n",
       "      <td>718</td>\n",
       "      <td>Women just don't have the stamina and logical ...</td>\n",
       "    </tr>\n",
       "    <tr>\n",
       "      <td>641</td>\n",
       "      <td>Many girls drop out of school as soon as they ...</td>\n",
       "    </tr>\n",
       "  </tbody>\n",
       "</table>\n",
       "<p>301 rows × 1 columns</p>\n",
       "</div>"
      ],
      "text/plain": [
       "                                                  text\n",
       "727  A woman is married primarily for reproduction ...\n",
       "243  Girls, stick with math & science in school. Th...\n",
       "342  I feel much safer if a male is driving instead...\n",
       "909   here are goes Im not like the other girls squ...\n",
       "920  It's one thing to have women in leadership and...\n",
       "..                                                 ...\n",
       "491  Im a girl and people get really fucking confus...\n",
       "48             There are no ugly women, only lazy ones\n",
       "805  Dowry of girls with flat Tummy should be paid ...\n",
       "718  Women just don't have the stamina and logical ...\n",
       "641  Many girls drop out of school as soon as they ...\n",
       "\n",
       "[301 rows x 1 columns]"
      ]
     },
     "execution_count": 122,
     "metadata": {},
     "output_type": "execute_result"
    }
   ],
   "source": [
    "X_test"
   ]
  },
  {
   "cell_type": "markdown",
   "metadata": {},
   "source": [
    "### Test with a random tweet:"
   ]
  },
  {
   "cell_type": "code",
   "execution_count": 123,
   "metadata": {},
   "outputs": [],
   "source": [
    "txt = \"call me sexist for this idk i hate tiktok men's thirst traps i have not found any one of them hot they all scare me.\""
   ]
  },
  {
   "cell_type": "code",
   "execution_count": 124,
   "metadata": {},
   "outputs": [],
   "source": [
    "txt_pd = pd.DataFrame([txt,])"
   ]
  },
  {
   "cell_type": "code",
   "execution_count": 126,
   "metadata": {},
   "outputs": [],
   "source": [
    "txt_pd.columns =['text']"
   ]
  },
  {
   "cell_type": "code",
   "execution_count": 127,
   "metadata": {},
   "outputs": [],
   "source": [
    "rnd_test = dgs.naive_bayes_generate_feature(train_df, dis_p_prior, txt_pd, Y_test)"
   ]
  },
  {
   "cell_type": "code",
   "execution_count": 128,
   "metadata": {},
   "outputs": [
    {
     "data": {
      "text/plain": [
       "[0.19483990789072392]"
      ]
     },
     "execution_count": 128,
     "metadata": {},
     "output_type": "execute_result"
    }
   ],
   "source": [
    "rnd_test"
   ]
  }
 ],
 "metadata": {
  "kernelspec": {
   "display_name": "Python 3",
   "language": "python",
   "name": "python3"
  },
  "language_info": {
   "codemirror_mode": {
    "name": "ipython",
    "version": 3
   },
   "file_extension": ".py",
   "mimetype": "text/x-python",
   "name": "python",
   "nbconvert_exporter": "python",
   "pygments_lexer": "ipython3",
   "version": "3.7.4"
  }
 },
 "nbformat": 4,
 "nbformat_minor": 2
}
